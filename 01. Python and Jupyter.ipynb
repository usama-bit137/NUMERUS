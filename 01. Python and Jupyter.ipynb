{
 "cells": [
  {
   "cell_type": "markdown",
   "id": "3d1d6c96",
   "metadata": {},
   "source": [
    "# 1.0 Introduction to Python3\n",
    "\n",
    "In the following section, we introduce the concepts of basic python data structures, operations, conditionals and loops. This should get you up to speed on the basic methods which we will often use in the rest of the textbook.\n",
    "\n",
    "## 1.0.0 What is Python?\n",
    "\n",
    "Python is a **high-level**, **dynamically-typed**, **object-oriented programming** (OOP) language. Okay? Let's deconstruct and define those terms in bold so we can understand what python is, what makes it special and why it should be everyone's first language... (sorry MATLAB).\n",
    "\n",
    "- **high-level** - a high-level programming language is one that is highly abstracted from machine code. Key data structures in high-level languages include variables, arrays, objects and boolean expressions (`true`/`false`). Conversely, low-level languages are ones that are closer to binary machine code. Low-level languages are commonly more efficient that high-level languages, but we trade that efficiency for ease of readbility, learning and understanding.\n",
    "\n",
    "- **dynamically-typed** - dynamically-typed languages are ones where the developer does not need declare what **type** a variable should have upon definition. The Python compiler (at runtime) will figure out what certain variables should be (`int`, `array`...). \n",
    "\n",
    "- **object-oriented** - an object-oriented programming (OOP) language is one that is based on the concept of *objects*. An object is a data structure which contains data. Many variable types that appear in Python (integers, arrays, matrices, dictionaries) are objects. Common OOPs include: Python, C++, C#, Java, JavaScript, MATLAB and many more...\n",
    "\n",
    "With this definition in hand, we can see that Python is a good mix of all the best things we need for programming. It is human-readable (high-level), extremely versatile (from OOP) and easy to write (dynamically-typed). Don't worry if you don't understand this definition... it's more of a nice to have and may serve you well later on in your career as a python developer or if you want to learn other languages in the future. "
   ]
  },
  {
   "cell_type": "markdown",
   "id": "9d049b46",
   "metadata": {},
   "source": [
    "# 1.1 Data Types in Python\n",
    "### A first look at Python Data Types\n",
    "Now that we have defined what python is, it's time to focus on what we can do with it. Python3 comes pre-packaged with the following data-types: \n",
    "\n",
    "- `int` - Integers \n",
    "- `float` - Floating point numbers \n",
    "- `str` - Strings \n",
    "- `list` - Lists \n",
    "- `dict` - Dictionaries unordered `key`: `value` pairs (e.g. `{'name': 'Spongebob', 'age': 24}`)\n",
    "- `tuples` - Tuples are immutable lists of elements (e.g. `(1,2,3,\"Patrick\")`)\n",
    "- `set` - Sets are lists of unique elements (e.g. `{1,2,34,'Smith Boy'}`)\n",
    "- `bool` - Booleans are conditional values that are `True` or `False`\n",
    "\n",
    "| Name                 | Type     | Description                                                         |\n",
    "| :------------------- | :------: | :------------------------------------------------------------------ |\n",
    "| Integers             | `int`    | Whole numbers (e.g. `3`, `200`, `87`)                               |\n",
    "| Floating Point Number| `float`  | Numbers with decimal point (e.g. `3.14`, `2.718`, `1.414`)          |\n",
    "| String               | `str`    | Ordered sequence of characters (e.g. `hello`, `200`, `How are you?`)|\n",
    "| List                 | `list`   | Ordered sequence of objects (e.g. `[1,2,3,4]`, `[\"Spongebob\", 24]`) |\n",
    "| Dictionary           | `dict`   | Unordered key value pairs (e.g. `{'name': 'Spongebob', 'age': 24}`) |\n",
    "| Tuples               | `tuples` | Ordered immutable sequence of objects (e.g. `(1,2,3,\"Patrick\")`)    |\n",
    "| Sets                 | `set`    | Unordered collections of objects (e.g. `{1,2,34,'Smith Boy'}`)      |\n",
    "| Booleans             | `bool`   | Logical values indicating `True` or `False`                         |\n",
    "\n",
    "\n",
    "We will go through each of these data structures not and explain how to use and manipulate each data type\n"
   ]
  },
  {
   "cell_type": "markdown",
   "id": "a668489d",
   "metadata": {},
   "source": [
    "### Checking the `type` a variable\n",
    "We can make use of the `type` function to check what the type of a data type is. Have a play around with the code below and enter the different data types above to confirm if the examples match with the data types above:"
   ]
  },
  {
   "cell_type": "code",
   "execution_count": 39,
   "id": "717c0c64",
   "metadata": {},
   "outputs": [
    {
     "data": {
      "text/plain": [
       "bool"
      ]
     },
     "execution_count": 39,
     "metadata": {},
     "output_type": "execute_result"
    }
   ],
   "source": [
    "type(True)"
   ]
  },
  {
   "cell_type": "markdown",
   "id": "a09545c5",
   "metadata": {},
   "source": [
    "## 1.1.1 Numbers (`int` and `float`)\n",
    "In Python, an `int` is just a whole number, we can see in the examples above. \n",
    "\n",
    "### Basic Aritmetic\n",
    "In this section we will basically use python as a calculator. We can perform the following basic mathematical operations in Python: "
   ]
  },
  {
   "cell_type": "code",
   "execution_count": 5,
   "id": "af20bc0e",
   "metadata": {},
   "outputs": [
    {
     "data": {
      "text/plain": [
       "3"
      ]
     },
     "execution_count": 5,
     "metadata": {},
     "output_type": "execute_result"
    }
   ],
   "source": [
    "# Addition\n",
    "2+1"
   ]
  },
  {
   "cell_type": "code",
   "execution_count": 7,
   "id": "825061e4",
   "metadata": {},
   "outputs": [
    {
     "data": {
      "text/plain": [
       "29"
      ]
     },
     "execution_count": 7,
     "metadata": {},
     "output_type": "execute_result"
    }
   ],
   "source": [
    "# Subtraction\n",
    "31-2"
   ]
  },
  {
   "cell_type": "code",
   "execution_count": 9,
   "id": "003f750e",
   "metadata": {},
   "outputs": [
    {
     "data": {
      "text/plain": [
       "63"
      ]
     },
     "execution_count": 9,
     "metadata": {},
     "output_type": "execute_result"
    }
   ],
   "source": [
    "# Multiplication\n",
    "21*3"
   ]
  },
  {
   "cell_type": "code",
   "execution_count": 10,
   "id": "b0c31f16",
   "metadata": {},
   "outputs": [
    {
     "data": {
      "text/plain": [
       "4.0"
      ]
     },
     "execution_count": 10,
     "metadata": {},
     "output_type": "execute_result"
    }
   ],
   "source": [
    "# Division\n",
    "24/6"
   ]
  },
  {
   "cell_type": "markdown",
   "id": "44c64d2f",
   "metadata": {},
   "source": [
    "Note that the division returns a number with a decimal point which is a `float`."
   ]
  },
  {
   "cell_type": "markdown",
   "id": "708a594c",
   "metadata": {},
   "source": [
    "Powers and squaring numbers has an interesting syntax in python. We use two asterisks (`**`) to denote the index of a power: "
   ]
  },
  {
   "cell_type": "code",
   "execution_count": 14,
   "id": "eed64688",
   "metadata": {},
   "outputs": [
    {
     "data": {
      "text/plain": [
       "16"
      ]
     },
     "execution_count": 14,
     "metadata": {},
     "output_type": "execute_result"
    }
   ],
   "source": [
    "# Powers\n",
    "4**2"
   ]
  },
  {
   "cell_type": "markdown",
   "id": "7639a119",
   "metadata": {},
   "source": [
    "### The Modulo Operator (`%`)\n",
    "Sometimes, we need to calculate the remainder of a number with respect to another. Suppose that we need to check if the number $26$ is even, we can use the modulo operator to ascertain if it's even or odd"
   ]
  },
  {
   "cell_type": "code",
   "execution_count": 16,
   "id": "69f85814",
   "metadata": {},
   "outputs": [
    {
     "data": {
      "text/plain": [
       "0"
      ]
     },
     "execution_count": 16,
     "metadata": {},
     "output_type": "execute_result"
    }
   ],
   "source": [
    "# Remainders\n",
    "26%2"
   ]
  },
  {
   "cell_type": "markdown",
   "id": "f24c789e",
   "metadata": {},
   "source": [
    "In the example above, $26$ has `0` remainder with respect to division by $2$. This means the $26$ is even. On the other hand, if we did the same calculation but with $31$, we would get a remainder of `1`"
   ]
  },
  {
   "cell_type": "markdown",
   "id": "853972ce",
   "metadata": {},
   "source": [
    "### BIDMAS (PEMDAS)\n",
    "Does python obey the rules of BIDMAS (PEMDAS)? Let's find out..."
   ]
  },
  {
   "cell_type": "code",
   "execution_count": 21,
   "id": "e9ca2674",
   "metadata": {},
   "outputs": [
    {
     "data": {
      "text/plain": [
       "35"
      ]
     },
     "execution_count": 21,
     "metadata": {},
     "output_type": "execute_result"
    }
   ],
   "source": [
    "2 + 3 * 10 + 3"
   ]
  },
  {
   "cell_type": "markdown",
   "id": "5b41dee9",
   "metadata": {},
   "source": [
    "So here, we see python performs the multiplication first, `(3*10)` then the additions `(2 + 30 + 3)`. Which is 35. But what if we wanted to perform the additions first, we need to use brackets/parentheses"
   ]
  },
  {
   "cell_type": "code",
   "execution_count": 22,
   "id": "2ef2569d",
   "metadata": {},
   "outputs": [
    {
     "data": {
      "text/plain": [
       "65"
      ]
     },
     "execution_count": 22,
     "metadata": {},
     "output_type": "execute_result"
    }
   ],
   "source": [
    "(2+3)*(10+3)"
   ]
  },
  {
   "cell_type": "markdown",
   "id": "1481127f",
   "metadata": {},
   "source": [
    "Of course, this still obeys BIDMAS, we perform all calculations in the brackets first and then performs the product of the two brackets. It never hurts to use brackets in any numerical calculations, it is possible to be overkill with it, but it doesn't hurt to be safe."
   ]
  },
  {
   "cell_type": "markdown",
   "id": "2fe09f12",
   "metadata": {},
   "source": [
    "### Variable Assignments\n",
    "We can assign all data types to variables. This is not specific to number types in python, but to all data structures. Variable declarations in python are simple compared to other languages:"
   ]
  },
  {
   "cell_type": "code",
   "execution_count": 33,
   "id": "54dbcf99",
   "metadata": {},
   "outputs": [
    {
     "data": {
      "text/plain": [
       "63"
      ]
     },
     "execution_count": 33,
     "metadata": {},
     "output_type": "execute_result"
    }
   ],
   "source": [
    "num_1 = 21\n",
    "num_2 = 3\n",
    "num_3 = num_1*num_2\n"
   ]
  },
  {
   "cell_type": "markdown",
   "id": "5fa32f6c",
   "metadata": {},
   "source": [
    "### Printing \n",
    "Furthermore, we can print all variable types to the console but using the `print` function."
   ]
  },
  {
   "cell_type": "code",
   "execution_count": 34,
   "id": "f0f67694",
   "metadata": {},
   "outputs": [
    {
     "name": "stdout",
     "output_type": "stream",
     "text": [
      "63\n"
     ]
    }
   ],
   "source": [
    "print(num_3)"
   ]
  },
  {
   "cell_type": "markdown",
   "id": "c89814c4",
   "metadata": {},
   "source": [
    "Printing proves extremely useful in debugging code and checking if operations on variable assignments work as expected. More on debugging later."
   ]
  },
  {
   "cell_type": "markdown",
   "id": "d147deef",
   "metadata": {},
   "source": [
    "## 1.1.2 Strings\n",
    "Another common data structure in python is the `str` or string type. We create strings in python in two ways: \n",
    "- Single quotes: `'Hello World!'`\n",
    "- Double quotes: `\"Hello World!\"`\n",
    "\n",
    "Both examples are strings of the same type. Some import"
   ]
  }
 ],
 "metadata": {
  "kernelspec": {
   "display_name": "Python 3",
   "language": "python",
   "name": "python3"
  },
  "language_info": {
   "codemirror_mode": {
    "name": "ipython",
    "version": 3
   },
   "file_extension": ".py",
   "mimetype": "text/x-python",
   "name": "python",
   "nbconvert_exporter": "python",
   "pygments_lexer": "ipython3",
   "version": "3.8.8"
  }
 },
 "nbformat": 4,
 "nbformat_minor": 5
}
