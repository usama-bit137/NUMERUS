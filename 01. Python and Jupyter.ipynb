{
 "cells": [
  {
   "cell_type": "markdown",
   "id": "3d1d6c96",
   "metadata": {},
   "source": [
    "# 1.0 Introduction to Python3\n",
    "\n",
    "In the following section, we introduce the concepts of basic python data structures, operations, conditionals and loops. This should get you up to speed on the basic methods which we will often use in the rest of the textbook.\n",
    "\n",
    "## 1.01 What is Python?\n",
    "\n",
    "Python is a **high-level**, **dynamically-typed**, **object-oriented programming** (OOP) language. Okay? Do you need to know this? Let's deconstruct and define those terms in bold so we can understand what python is, what makes it special and why it should be everyone's first language... (sorry MATLAB).\n",
    "\n",
    "- **high-level** - a high-level programming language is one that is highly abstracted from machine code. Key data structures in high-level languages include variables, arrays, objects and boolean expressions (`true`/`false`). Conversely, low-level languages are ones that are closer to binary machine code. Low-level languages are commonly more efficient that high-level languages, but we trade that efficiency for ease of readbility, learning and understanding.\n",
    "\n",
    "- **dynamically-typed** - dynamically-typed languages are ones where the developer does not need declare what **type** a variable should have upon definition. The Python compiler (at runtime) will figure out what certain variables should be (`int`, `array`...). \n",
    "\n",
    "- **object-oriented** - an object-oriented programming (OOP) language is one that is based on the concept of *objects*. An object is a data structure which contains data. Many variable types that appear in Python (integers, arrays, matrices, dictionaries) are objects. Common OOPs include: Python, C++, C#, Java, JavaScript, MATLAB and many more...\n",
    "\n",
    "With this definition in hand, we can see that Python is a good mix of all the best things we need for programming. It is human-readable (high-level), extremely versatile (from OOP) and easy to write (dynamically-typed). Don't worry if you don't understand this definition... it's more of a nice to have and may serve you well later on in your career as a python developer or if you want to learn other languages in the future. "
   ]
  },
  {
   "cell_type": "markdown",
   "id": "9d049b46",
   "metadata": {},
   "source": [
    "# 1.1 Our first data-types\n",
    "Now that we have defined what python is, it's time to focus on what we can do with it. Python3 comes pre-packaged with the following data-types: \n",
    "\n",
    "- `int` - Integers (e.g. `3`, `200`, `87`)\n",
    "- `float` - Floating point numbers (e.g. `3.14`, `2.718`, `1.414`)\n",
    "- `str` - Strings (e.g. `hello`, `200`, `How are you?`)\n",
    "- `list` - Lists (e.g. `[1,2,3,4]`, `[\"Spongebob\", 24]`)\n",
    "- `dict` - Dictionaries unordered `key`: `value` pairs (e.g. `{'name': 'Spongebob', 'age': 24}`)\n",
    "- `tuples` - Tuples are immutable lists of elements (e.g. `(1,2,3,\"Patrick\")`)\n",
    "- `set` - Sets are lists of unique elements (e.g. `{1,2,34,'Smith Boy'}`)\n",
    "- `bool` - Booleans are conditional values that are `True` or `False`\n",
    "\n",
    "We will go through each of these data structures not and explain how to use and manipulate each data type\n"
   ]
  },
  {
   "cell_type": "markdown",
   "id": "a09545c5",
   "metadata": {},
   "source": [
    "## 1.11 Integers\n",
    "An integer in Python as in the real world is a 'whole number'. "
   ]
  }
 ],
 "metadata": {
  "kernelspec": {
   "display_name": "Python 3",
   "language": "python",
   "name": "python3"
  },
  "language_info": {
   "codemirror_mode": {
    "name": "ipython",
    "version": 3
   },
   "file_extension": ".py",
   "mimetype": "text/x-python",
   "name": "python",
   "nbconvert_exporter": "python",
   "pygments_lexer": "ipython3",
   "version": "3.8.8"
  }
 },
 "nbformat": 4,
 "nbformat_minor": 5
}
