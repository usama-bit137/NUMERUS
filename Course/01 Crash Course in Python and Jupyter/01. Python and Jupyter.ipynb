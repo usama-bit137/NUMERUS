{
 "cells": [
  {
   "cell_type": "markdown",
   "id": "f4b73f34",
   "metadata": {},
   "source": [
    "## Table of Contents:\n",
    "* [1.0 Introduction to Python3](#intro-python)\n",
    "    - [1.0.0 What is Python?](#what-is)\n",
    "* [1.1 Data Types in Python](#data-types)\n",
    "    - [1.1.1 Numbers `int` and `floats`](#ints-floats)\n",
    "    - [1.1.1 Strings, arrays and tuples](#strings-arrays-tuples)"
   ]
  },
  {
   "cell_type": "markdown",
   "id": "3d1d6c96",
   "metadata": {},
   "source": [
    "# 1.0 Introduction to Python3 <a class=\"anchor\" id=\"intro-python\"></a>\n",
    "\n",
    "In the following section, we introduce the concepts of basic python data structures, operations, conditionals and loops. This should get you up to speed on the basic methods which we will often use in the rest of the textbook.\n",
    "\n",
    "## 1.0.0 What is Python? <a class=\"anchor\" id=\"what-is\"></a>\n",
    "\n",
    "### Python\n",
    "Python is a **high-level**, **dynamically-typed**, **object-oriented programming** (OOP) language. There's a lot to decontruct here, so let's define precisely what these terms mean. This will allow us to weigh some pros and cons of python as a programming language and why it should be your first language...\n",
    "\n",
    "- **high-level** - a high-level programming language is one that is highly abstracted from machine code. Key data structures in high-level languages include variables, arrays, objects and boolean expressions (`true`/`false`). Conversely, low-level languages are ones that are closer to binary machine code. Low-level languages are commonly more efficient that high-level languages, but we trade that efficiency for ease of readbility, learning and understanding.\n",
    "\n",
    "- **dynamically-typed** - dynamically-typed languages are ones where the developer does not need declare what **type** a variable should have upon definition. The Python compiler (at runtime) will figure out what certain variables should be (`int`, `array`...). The next section will dive deeply into the different data types present in python. This is a bit of a catch to dynamic typing, because while it makes python easier to use for beginners, the type of a variable can sometimes change during the course of a calculation (for example, an `array` can become a `tuple`) which can be a nightmare to debug, however, we will find fixes for these problems throughout the course. \n",
    "\n",
    "- **object-oriented** - an object-oriented programming (OOP) language is one that is based on the concept of *objects*. An object is a data structure which contains data. Many variable types that appear in Python (integers, arrays, matrices, dictionaries) are objects. Common OOPs include: Python, C++, C#, Java, JavaScript, MATLAB and many more...\n",
    "\n",
    "### Jupyter Notebook\n",
    "Jupyter Notebook is what these notes are written in. So we're already off to a good start. [Jupyter Notebook](https://jupyter.org/) is a web-based interactive development environment for notebooks, code and data. It's an excellent tool for integrating code snippets into blocks of markdown (the text you are reading now). Markdown is a stripped down, light-weight *markup* langage (same markup as in HTML). It's just an easier way to write HTML.\n",
    "\n",
    "Nice, so we have a better understanding of the definition of python, however, some of these terms have been loosely defined, the contents therein are sufficient for us to start using python. If you would like better definitions for some of these terms, this is an opportunity to perhaps search for some resources... \n",
    "\n",
    "With this definition in hand, we can see that Python is a good mix of all the best things we need for programming. It is human-readable (high-level), extremely versatile (from OOP) and easy to write (dynamically-typed). Don't worry if you don't understand this definition... it's more of a nice to have and may serve you well later on in your career as a python developer or if you want to learn other languages in the future. \n",
    "\n",
    "Next we shall dive into some basics of python and introduce data types in python. "
   ]
  },
  {
   "cell_type": "markdown",
   "id": "9d049b46",
   "metadata": {},
   "source": [
    "# 1.1 Data Types in Python\n",
    "### A first look at Python Data Types\n",
    "Now that we have defined what python is, it's time to focus on what we can do with it. Python3 comes pre-packaged with the following data-types: \n",
    "\n",
    "- `int` - Integers \n",
    "- `float` - Floating point numbers \n",
    "- `str` - Strings \n",
    "- `list` - Lists \n",
    "- `dict` - Dictionaries unordered `key`: `value` pairs (e.g. `{'name': 'Spongebob', 'age': 24}`)\n",
    "- `tuples` - Tuples are immutable lists of elements (e.g. `(1,2,3,\"Patrick\")`)\n",
    "- `set` - Sets are lists of unique elements (e.g. `{1,2,34,'Smith Boy'}`)\n",
    "- `bool` - Booleans are conditional values that are `True` or `False`\n",
    "\n",
    "| Name                 | Type     | Description                                                         |\n",
    "| :------------------- | :------: | :------------------------------------------------------------------ |\n",
    "| Integers             | `int`    | Whole numbers (e.g. `3`, `200`, `87`)               |\n",
    "| Floating Point Number| `float`  | Numbers with decimal point (e.g. `3.14`, `2.718`, `1.414`)          |\n",
    "| String               | `str`    | Ordered sequence of characters (e.g. `hello`, `200`, `How are you?`)|\n",
    "| List                 | `list`   | Ordered sequence of objects (e.g. `[1,2,3,4]`, `[\"Spongebob\", 24]`) |\n",
    "| Dictionary           | `dict`   | Unordered key value pairs (e.g. `{'name': 'Spongebob', 'age': 24}`) |\n",
    "| Tuples               | `tuples` | Ordered immutable sequence of objects (e.g. `(1,2,3,\"Patrick\")`)    |\n",
    "| Sets                 | `set`    | Unordered collections of objects (e.g. `{1,2,34,'Smith Boy'}`)      |\n",
    "| Booleans             | `bool`   | Logical values indicating `True` or `False`                         |\n",
    "\n",
    "\n",
    "We will go through each of these data structures and explain what they are and how they can be manipulated.\n"
   ]
  },
  {
   "cell_type": "markdown",
   "id": "a668489d",
   "metadata": {},
   "source": [
    "### Checking the `type` of a variable\n",
    "We can make use of the `type` function to check what the type an objectos is. Have a play around with the code below and enter the different data types above to confirm if the examples match the data given:"
   ]
  },
  {
   "cell_type": "code",
   "execution_count": null,
   "id": "717c0c64",
   "metadata": {},
   "outputs": [],
   "source": [
    "type(9)"
   ]
  },
  {
   "cell_type": "markdown",
   "id": "a09545c5",
   "metadata": {},
   "source": [
    "## 1.1.1 Numbers (`int` and `float`) <a class=\"anchor\" id=\"ints-floats\"></a>\n",
    "In Python, an `int` is just a whole number, as we saw earlier. A `float` is a number with a decimal point. One quick point of note is that in python `2` is an `int` and `2.0` is a `float` (even though normally we would class both as being the integers, python makes a distinction). \n",
    "\n",
    "### Basic Aritmetic\n",
    "In this section we will basically use python as a calculator. We can perform the following basic mathematical operations in Python: "
   ]
  },
  {
   "cell_type": "code",
   "execution_count": null,
   "id": "af20bc0e",
   "metadata": {},
   "outputs": [],
   "source": [
    "# Addition\n",
    "2+1"
   ]
  },
  {
   "cell_type": "code",
   "execution_count": null,
   "id": "825061e4",
   "metadata": {},
   "outputs": [],
   "source": [
    "# Subtraction\n",
    "31-2"
   ]
  },
  {
   "cell_type": "code",
   "execution_count": null,
   "id": "003f750e",
   "metadata": {},
   "outputs": [],
   "source": [
    "# Multiplication\n",
    "21*3"
   ]
  },
  {
   "cell_type": "code",
   "execution_count": null,
   "id": "b0c31f16",
   "metadata": {},
   "outputs": [],
   "source": [
    "# Division\n",
    "24/6"
   ]
  },
  {
   "cell_type": "markdown",
   "id": "44c64d2f",
   "metadata": {},
   "source": [
    "Note that the division returns a number with a decimal point which is a `float` although we initially used `int`s to perform the calculation, this will always be the case. Later, we will consider the **precision** of floating point numbers, however, this is not so important at the moment."
   ]
  },
  {
   "cell_type": "markdown",
   "id": "708a594c",
   "metadata": {},
   "source": [
    "Powers have an interesting syntax in python. We use two asterisks (`**`) to denote taking a number to a power, for examples $4^2 = 16$ and whatever $3.14^3$ is"
   ]
  },
  {
   "cell_type": "code",
   "execution_count": null,
   "id": "eed64688",
   "metadata": {},
   "outputs": [],
   "source": [
    "# Powers\n",
    "4**2 # =16\n",
    "3.14**3"
   ]
  },
  {
   "cell_type": "markdown",
   "id": "7639a119",
   "metadata": {},
   "source": [
    "### The Modulo Operator (`%`)\n",
    "Sometimes, we need to calculate the remainder of a number with respect to another. Suppose that we need to check whether the `int` $26$ is even, we can use the modulo operator to ascertain if it's even or odd"
   ]
  },
  {
   "cell_type": "code",
   "execution_count": null,
   "id": "69f85814",
   "metadata": {},
   "outputs": [],
   "source": [
    "# Remainders\n",
    "26%2"
   ]
  },
  {
   "cell_type": "markdown",
   "id": "f24c789e",
   "metadata": {},
   "source": [
    "In the example above, $26$ has `0` remainder with respect to division by $2$. This means the $26$ is even. On the other hand, if we did the same calculation but with $31$, we would get a remainder of `1`, thus `31` is odd. "
   ]
  },
  {
   "cell_type": "markdown",
   "id": "853972ce",
   "metadata": {},
   "source": [
    "### BIDMAS (PEMDAS)\n",
    "Does python obey the rules of BIDMAS (PEMDAS)? Let's find out..."
   ]
  },
  {
   "cell_type": "code",
   "execution_count": null,
   "id": "e9ca2674",
   "metadata": {},
   "outputs": [],
   "source": [
    "2 + 3 * 10 + 3"
   ]
  },
  {
   "cell_type": "markdown",
   "id": "5b41dee9",
   "metadata": {},
   "source": [
    "So here, we see python performs the multiplication first, `(3*10)` then the additions `(2 + 30 + 3)`. Which is `35`. But what if we wanted to perform the additions first, we need to use brackets/parentheses"
   ]
  },
  {
   "cell_type": "code",
   "execution_count": null,
   "id": "2ef2569d",
   "metadata": {},
   "outputs": [],
   "source": [
    "(2+3)*(10+3)"
   ]
  },
  {
   "cell_type": "markdown",
   "id": "1481127f",
   "metadata": {},
   "source": [
    "Of course, this still obeys BIDMAS, we perform all calculations in the brackets first and then performs the product of the two brackets. It never hurts to use brackets in any numerical calculations, it is possible for it to be overkill, however it doesn't hurt to be safe."
   ]
  },
  {
   "cell_type": "markdown",
   "id": "2fe09f12",
   "metadata": {},
   "source": [
    "### Variable Assignments\n",
    "We can assign all data types to variables, it's best to introduce this as early as possible. Variable declarations in Python are simple compared to other languages. Suppose, we wanted to assign the number `21` to the variable `num_1`. Note the `=` sign here refers to *assignment* not *equality*. Just like we do so in normal homework problems, we assign the variable $x=2$, it's not that the symbol $x$ is the same as $2$. Let's see why variable assignments are useful: "
   ]
  },
  {
   "cell_type": "code",
   "execution_count": null,
   "id": "54dbcf99",
   "metadata": {},
   "outputs": [],
   "source": [
    "num_1 = 21\n",
    "num_2 = 3\n",
    "num_3 = num_1*num_2\n"
   ]
  },
  {
   "cell_type": "markdown",
   "id": "39d3691e",
   "metadata": {},
   "source": [
    "Here, we assigned two variables `num_1` and `num_2`, and used that to calculate the product of those two variables, which was assigned to the the new variables `num_3`. `num_3` is equal to `63`. We can then call `num_3` in further calculations."
   ]
  },
  {
   "cell_type": "markdown",
   "id": "5fa32f6c",
   "metadata": {},
   "source": [
    "### Printing \n",
    "Another important tool in our arsenal is printing. It is possible for us to print all variable types to the console by using the `print` function, like so:"
   ]
  },
  {
   "cell_type": "code",
   "execution_count": null,
   "id": "f0f67694",
   "metadata": {},
   "outputs": [],
   "source": [
    "print(num_3)"
   ]
  },
  {
   "cell_type": "markdown",
   "id": "9111d75a",
   "metadata": {},
   "source": [
    "The real value of the print function is seen in more further examples. Printing proves extremely useful in debugging code and checking if operations on variable assignments work as expected. More on debugging later."
   ]
  },
  {
   "cell_type": "markdown",
   "id": "d147deef",
   "metadata": {},
   "source": [
    "## 1.1.2 Strings, arrays and tuples\n",
    "### Indexing\n",
    "\n",
    "Strings (type `str`) or string types are ordered sequences of characters in python. We create strings in python in two ways: \n",
    "- Single quotes: `'Hello World!'`\n",
    "- Double quotes: `\"Hello World!\"`\n",
    "\n",
    "Both examples are strings of the same type. From the table above, we see that strings are **ordered sequences**, which means that they permit the use of *indexing* and *slicing*. Consider the string `'hello'`, the table below shows a labelling of the characters of the string, and what index each character corresponds to in the string\n",
    "\n",
    "\n",
    "| Characters           | h    | e    | l    |l     |o     |\n",
    "| :------------------- | :---:| :---:| :---:| :---:| :---:|\n",
    "| Index                | 0    | 1    | 2    | 3    | 4    |\n",
    "| Reverse Index        | 0    | -4   | -3   | -2   | -1   |\n",
    "\n",
    "An *index* in an ordered sequence (such as `str`, `list`,`tuple`) of elements, refers to the position of an element in a the sequence, for example"
   ]
  },
  {
   "cell_type": "code",
   "execution_count": null,
   "id": "673c864b",
   "metadata": {},
   "outputs": [],
   "source": [
    "string = \"hello\"\n",
    "print(string[0])"
   ]
  },
  {
   "cell_type": "markdown",
   "id": "ca8c5410",
   "metadata": {},
   "source": [
    "In words, *the zeroth element of the `string` is* the letter `h`. Python, as with most other languages, uses zero referencing, the first element is at index position `0`, the second at index position `1` and so on. Suppose that we wanted to reference from the other end of the string, Python also allows for this by using negative indices. The final character of the string is at index position `-1`, the penultimate is at index position `-2` and so on...  \n",
    "\n",
    "This type of indexing also works for other types, but let's focus on strings for the time being."
   ]
  },
  {
   "cell_type": "markdown",
   "id": "b59b1fb0",
   "metadata": {},
   "source": [
    "### Strings\n",
    "Earlier, it was mentioned that we can use strings with single and double quotes, however, just a few important rules to remember, the quotes that enclose a string, should be of the same type, for example, this `\"Hello World'` will throw an error. Furthermore, if you use single quotes, you have to be careful of apostrophes, for example, `'I'm going to the park'` doesn't translate to *\"I'm going to the park\"*. The apostrophe in 'I'm' is read as a string literal which encloses the single-quote at the start. We can circumvent this in two ways: \n",
    "\n",
    " - 1. Use single quotes and use `\\'` to use the apostrophe - `'I\\'m going to the park'`,\n",
    " - 2. Forego, the use of single quotes and just use double quotes - `\"I'm going to the park\"`\n",
    " \n",
    "Neither is better or worse than the other, just make sure to use a back-slash, when trying to format apostrophes in case 1. Let's print some strings now. Suppose we wanted to print `\"Hello World!\"`, we would simply pass that string into the `print` function like so"
   ]
  },
  {
   "cell_type": "code",
   "execution_count": null,
   "id": "d018a632",
   "metadata": {},
   "outputs": [],
   "source": [
    "print(\"Hello World\")"
   ]
  },
  {
   "cell_type": "markdown",
   "id": "897dd664",
   "metadata": {},
   "source": [
    "Easy enough. Let's try something a bit longer... "
   ]
  },
  {
   "cell_type": "code",
   "execution_count": null,
   "id": "32412dfa",
   "metadata": {},
   "outputs": [],
   "source": [
    "print('Lorem ipsum dolor sit amet, consectetur adipiscing elit. Ut dictum urna at tellus tristique blandit. Etiam pharetra est et enim commodo rhoncus. Phasellus eu laoreet quam. Phasellus in porttitor enim. Donec porta libero at dui accumsan convallis. Suspendisse potenti. Sed fermentum massa dui, sit amet sollicitudin tellus dignissim ac. Phasellus nec venenatis arcu. Integer neque magna, rhoncus sit amet blandit ut, consectetur at nibh. Nunc tristique blandit leo. Ut eu leo nec tortor finibus sollicitudin feugiat ac nibh.')"
   ]
  },
  {
   "cell_type": "markdown",
   "id": "77d09403",
   "metadata": {},
   "source": [
    "This is okay, but the string cuts off until the end of the Jupyter viewport **{OR WHATEVER IT'S CALLED}**, what if we wanted to choose the cutoff to a newline ourselves. For this we use an **escape sequence** (`\\n`). Escape sequences allow us to define a newline like this"
   ]
  },
  {
   "cell_type": "code",
   "execution_count": null,
   "id": "bcff3939",
   "metadata": {},
   "outputs": [],
   "source": [
    "print(\"Lorem ipsum dolor sit amet, \\nconsectetur adipiscing elit. Ut dictum \\nurna at tellus tristique blandit. Etiam pharetra \\nest et enim commodo rhoncus. Phasellus \\neu laoreet quam. Phasellus in porttitor enim. \\nDonec porta libero at dui accumsan convallis. \\nSuspendisse potenti. Sed fermentum massa dui, sit \\namet sollicitudin tellus dignissim ac. Phasellus nec \\nvenenatis arcu. Integer neque magna, rhoncus sit \\namet blandit ut, consectetur at nibh. Nunc tristique \\nblandit leo. Ut eu leo nec tortor finibus \\nsollicitudin feugiat ac nibh.\")\n"
   ]
  },
  {
   "cell_type": "markdown",
   "id": "d394cacf",
   "metadata": {},
   "source": [
    "Despite the fact that the formatting is not excellent, it is another option for us in terms of formatting printed strings. \n",
    "\n",
    "Another escape sequence is the `tab` (`\\t`), this will force 4 extra spaces: "
   ]
  },
  {
   "cell_type": "code",
   "execution_count": null,
   "id": "593721b0",
   "metadata": {},
   "outputs": [],
   "source": [
    "print('Hello \\t World')"
   ]
  },
  {
   "cell_type": "markdown",
   "id": "e070e41e",
   "metadata": {},
   "source": [
    "### Formatting strings\n",
    "Let's print out some results of some calculations to see how useful strings can be. Suppose that we want to calculate the force `F` required to accelerate a particle of mass `m = 10` by `a = 9.81`. Of course the force will be `F = m * a` from Newton's Second Law."
   ]
  },
  {
   "cell_type": "code",
   "execution_count": null,
   "id": "db881818",
   "metadata": {},
   "outputs": [],
   "source": [
    "m = 10\n",
    "a = 9.81\n",
    "\n",
    "F = m*a\n",
    "print(F)"
   ]
  },
  {
   "cell_type": "markdown",
   "id": "2472a327",
   "metadata": {},
   "source": [
    "With no context, it's hard to tell what this result is printing. Especially if you're using an IDE and not Jupyter. Also it's generally better practice to using some more injective string printing. Will the following work?"
   ]
  },
  {
   "cell_type": "code",
   "execution_count": null,
   "id": "be794770",
   "metadata": {},
   "outputs": [],
   "source": [
    "print('The force required is F N')"
   ]
  },
  {
   "cell_type": "markdown",
   "id": "d00b4802",
   "metadata": {},
   "source": [
    "Run the code snippet to see. If you did, you will see that that did not work. A simple syntax is to use `+` literal to literally add that variable to the string"
   ]
  },
  {
   "cell_type": "code",
   "execution_count": null,
   "id": "9674932f",
   "metadata": {},
   "outputs": [],
   "source": [
    "print('The force required is ' + str(F) + ' N')"
   ]
  },
  {
   "cell_type": "markdown",
   "id": "cc925277",
   "metadata": {},
   "source": [
    "Here we converted the `F` into a string and then concatenated the strings together. This is still a bit cluncky and there are still slicker ways to do this."
   ]
  },
  {
   "cell_type": "markdown",
   "id": "2386247e",
   "metadata": {},
   "source": [
    "#### Method 1: *f*-strings\n",
    "The simplest way to do print strings with variables is using an *f*-strings. This is simple enough, we just declare an `f` before the string like so:"
   ]
  },
  {
   "cell_type": "code",
   "execution_count": null,
   "id": "3d9fbc8c",
   "metadata": {},
   "outputs": [],
   "source": [
    "result = f\"The force required is {F} N\"\n",
    "print(result)"
   ]
  },
  {
   "cell_type": "markdown",
   "id": "83addcea",
   "metadata": {},
   "source": [
    "The benefit of this method is that the *f*-strings are 'injective' and simple to use. It created a template for us to just fill in as we please. We can also inject several variables into the string like this"
   ]
  },
  {
   "cell_type": "code",
   "execution_count": null,
   "id": "6b831271",
   "metadata": {},
   "outputs": [],
   "source": [
    "result = f'The force required to accelerate a particle of mass, {m}kg by {a}ms-2 is {F}N'\n",
    "print(result)"
   ]
  },
  {
   "cell_type": "markdown",
   "id": "8a777add",
   "metadata": {},
   "source": [
    "**IMPORTANT NOTE**: *f*-strings are only supported in Python 3 onwards, so if you use Python 2, you'll most certainly get errors. "
   ]
  },
  {
   "cell_type": "markdown",
   "id": "4f23c84c",
   "metadata": {},
   "source": [
    "#### Method 2: The `.format()` method\n",
    "Another method of formatting strings is the `.format()` method. This is a method on strings which allows us to inject some variables into the string template. As before, we have"
   ]
  },
  {
   "cell_type": "code",
   "execution_count": null,
   "id": "75ba8ed4",
   "metadata": {},
   "outputs": [],
   "source": [
    "result = \"The force required is {} N\".format(F)\n",
    "print(result)"
   ]
  },
  {
   "cell_type": "markdown",
   "id": "63e0d464",
   "metadata": {},
   "source": [
    "But what if want to inject several variables into the string? The `.format()` string also supports this with an interesting syntax"
   ]
  },
  {
   "cell_type": "code",
   "execution_count": null,
   "id": "d071d039",
   "metadata": {},
   "outputs": [],
   "source": [
    "result = \"The force required is {} N for a mass {}kg with to accelerate by {}ms-2\".format(F, m, a)\n",
    "print(result)"
   ]
  },
  {
   "cell_type": "markdown",
   "id": "396e766c",
   "metadata": {},
   "source": [
    "So, this is cool, however, it can be confusing because we have to remember the order in which the variables appear. We can fix this easily by storing out value in variables"
   ]
  },
  {
   "cell_type": "code",
   "execution_count": null,
   "id": "01d86ee7",
   "metadata": {},
   "outputs": [],
   "source": [
    "result = \"The force required is {force} N for a mass {mass}kg with to accelerate by {acc}ms-2\".format(force=F, mass=m, acc=a)\n",
    "print(result)"
   ]
  },
  {
   "cell_type": "markdown",
   "id": "e8724381",
   "metadata": {},
   "source": [
    "The cool thing about this is that we can call the variables more than once:"
   ]
  },
  {
   "cell_type": "code",
   "execution_count": null,
   "id": "8c9ede52",
   "metadata": {},
   "outputs": [],
   "source": [
    "result = \"The force required is {force} N for a mass {force}kg with to accelerate by {force}ms-2\".format(force=F, mass=m, acc=a)\n",
    "print(result)"
   ]
  },
  {
   "cell_type": "markdown",
   "id": "ec6750e3",
   "metadata": {},
   "source": [
    "or in any order we like:"
   ]
  },
  {
   "cell_type": "code",
   "execution_count": null,
   "id": "7822594d",
   "metadata": {},
   "outputs": [],
   "source": [
    "result = \"The force required is {mass} N for a mass {acc}kg with to accelerate by {force}ms-2\".format(force=F, mass=m, acc=a)\n",
    "print(result)"
   ]
  },
  {
   "cell_type": "markdown",
   "id": "a6f2ce17",
   "metadata": {},
   "source": [
    "Of course, these last two examples are not mathematically correct, however, it's just a demonstration of the power of the `.format()` method. We can also set the precision of the results appearing within the string. We can see that `F = 98.10000000000001` has too much precision. Precision formatting allows the following options in `{value:width.precision f}` syntax. For example, if we wanted to show the force to `2` decimal places, we would simply insert the following; `{force:1:2f}`"
   ]
  },
  {
   "cell_type": "code",
   "execution_count": null,
   "id": "6c44f503",
   "metadata": {},
   "outputs": [],
   "source": [
    "result = \"The force required is {force:1.2f} N for a mass {mass}kg with to accelerate by {acc}ms-2\".format(force=F, mass=m, acc=a)\n",
    "print(result)"
   ]
  },
  {
   "cell_type": "markdown",
   "id": "525f0862",
   "metadata": {},
   "source": [
    "I mentioned earlier that the formatting allows for a `width` option, this is not very useful, but this is what it does"
   ]
  },
  {
   "cell_type": "code",
   "execution_count": null,
   "id": "d5d6a1f0",
   "metadata": {},
   "outputs": [],
   "source": [
    "result = \"The force required is {force:10.2f} N for a mass {mass}kg with to accelerate by {acc}ms-2\".format(force=F, mass=m, acc=a)\n",
    "print(result)"
   ]
  },
  {
   "cell_type": "markdown",
   "id": "5c30b3ae",
   "metadata": {},
   "source": [
    "So a `width = 10` just adds 10 spaces in front of the value being formatted."
   ]
  },
  {
   "cell_type": "code",
   "execution_count": null,
   "id": "303b0052",
   "metadata": {},
   "outputs": [],
   "source": []
  }
 ],
 "metadata": {
  "kernelspec": {
   "display_name": "Python 3",
   "language": "python",
   "name": "python3"
  },
  "language_info": {
   "codemirror_mode": {
    "name": "ipython",
    "version": 3
   },
   "file_extension": ".py",
   "mimetype": "text/x-python",
   "name": "python",
   "nbconvert_exporter": "python",
   "pygments_lexer": "ipython3",
   "version": "3.8.8"
  }
 },
 "nbformat": 4,
 "nbformat_minor": 5
}
