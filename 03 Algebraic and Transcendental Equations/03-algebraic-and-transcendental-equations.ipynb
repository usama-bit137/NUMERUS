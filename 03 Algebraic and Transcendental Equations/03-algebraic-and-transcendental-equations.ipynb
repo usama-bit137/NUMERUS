{
 "cells": [
  {
   "cell_type": "markdown",
   "id": "f80031de",
   "metadata": {},
   "source": [
    "# Table of Contents\n",
    "- [3.0 Introduction to algebraic and transcendental equations](#intro)\n",
    "\n",
    "\n",
    "# 3.0 Introduction to Algebraic and Transcendental Equations <a class=\"anchor\" id=\"intro\"></a>\n",
    "\n",
    "\n",
    "### A brief pause\n",
    "\n",
    "Welcome to the first section where we shall use numerical methods to solve actual physics problems by writing our own algorithms. Hopefully, you are excited at the prospect of solving some interesting problems. Having gone throught the previous sections and with the range of tools in your arsenal including many pre-built modules such as `numpy`, `scipy` and `matplotlib`, you may consider asking, \"Why not just use the pre-built modules to solve these problems?\". Perhaps you read the documentation for `scipy` and found that it has an integration framework, and the ability to solve differential equations. This is true and in practice, these frameworks are preferred over writing your own algorithms, there's no sense in re-inventing the wheel. \n",
    "\n",
    "To counter that, remember that our goal is not just to simply solve problems as a means to an end. It is to show that numerical methods are as important as other branches of physics (such as Quantum Mechanics and Gravitation). In fact, a vast majority of the research performed today, relies on programming of some sort. Practically all theoretical physics uses numerical methods and it's value in experimental research cannot be overstated. Thus we prefer that you understand the inner workings of the problem at hand and to understand the beautiful geometry that underlies practically all numerical methods. Your greatest tool as a scientist is your mind and your ability to solve a problem with creativity - not the solution itself. Hopefully that's enough justification to continue learning and so we shall proceed...\n",
    "\n",
    "##\n"
   ]
  }
 ],
 "metadata": {
  "kernelspec": {
   "display_name": "Python 3",
   "language": "python",
   "name": "python3"
  },
  "language_info": {
   "codemirror_mode": {
    "name": "ipython",
    "version": 3
   },
   "file_extension": ".py",
   "mimetype": "text/x-python",
   "name": "python",
   "nbconvert_exporter": "python",
   "pygments_lexer": "ipython3",
   "version": "3.8.8"
  }
 },
 "nbformat": 4,
 "nbformat_minor": 5
}
